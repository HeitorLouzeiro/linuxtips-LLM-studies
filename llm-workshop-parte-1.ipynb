{
 "cells": [
  {
   "cell_type": "code",
   "execution_count": 30,
   "id": "85488dad-010f-4700-ab38-b1ec404c0beb",
   "metadata": {},
   "outputs": [],
   "source": [
    "import os\n",
    "from dotenv import load_dotenv"
   ]
  },
  {
   "cell_type": "code",
   "execution_count": 31,
   "id": "c2cf39ce-0968-41d2-b7d6-b1748559dea8",
   "metadata": {},
   "outputs": [
    {
     "data": {
      "text/plain": [
       "'gcp-starter'"
      ]
     },
     "execution_count": 31,
     "metadata": {},
     "output_type": "execute_result"
    }
   ],
   "source": [
    "load_dotenv('./.env')\n",
    "os.environ.get('PINECONE_ENV')"
   ]
  },
  {
   "cell_type": "markdown",
   "id": "68dbc64a",
   "metadata": {},
   "source": [
    "* Instantiating the API_KEY"
   ]
  },
  {
   "cell_type": "code",
   "execution_count": 32,
   "id": "f74ceeeb",
   "metadata": {},
   "outputs": [],
   "source": [
    "OPENAI_API_KEY = os.getenv('OPENAI_SECREY_KEY')\n",
    "PINECONE_API_KEY = os.getenv('PINECONE_API_KEY')\n",
    "PINECONE_ENV = os.getenv('PINECONE_ENV')"
   ]
  },
  {
   "cell_type": "markdown",
   "id": "40ace51d",
   "metadata": {},
   "source": [
    "## LangChain getting started\n"
   ]
  },
  {
   "cell_type": "code",
   "execution_count": 33,
   "id": "4f9b1dce",
   "metadata": {},
   "outputs": [
    {
     "name": "stdout",
     "output_type": "stream",
     "text": [
      "\u001b[1mOpenAI\u001b[0m\n",
      "Params: {'model_name': 'text-davinci-003', 'temperature': 0.7, 'top_p': 1, 'frequency_penalty': 0, 'presence_penalty': 0, 'n': 1, 'logit_bias': {}, 'max_tokens': 512}\n"
     ]
    }
   ],
   "source": [
    "from langchain.llms import OpenAI\n",
    "llm = OpenAI(model_name='text-davinci-003', temperature=0.7, max_tokens=512, openai_api_key=OPENAI_API_KEY)\n",
    "print(llm)"
   ]
  },
  {
   "cell_type": "markdown",
   "id": "bbe1804b",
   "metadata": {},
   "source": [
    "* Asking AI a question."
   ]
  },
  {
   "cell_type": "code",
   "execution_count": 34,
   "id": "26c0f72b",
   "metadata": {},
   "outputs": [],
   "source": [
    "output = llm('explique como funções python funcionam')"
   ]
  },
  {
   "cell_type": "code",
   "execution_count": 35,
   "id": "8ea6abe9",
   "metadata": {},
   "outputs": [
    {
     "name": "stdout",
     "output_type": "stream",
     "text": [
      "\n",
      "\n",
      "Funções Python são blocos de código que executam uma tarefa específica quando são chamados. Elas são definidas usando a palavra-chave def. Uma função recebe argumentos e, opcionalmente, retorna um valor. Funções Python são usadas para modularizar a lógica do programa, tornando mais fácil de ler e debugar o código. Uma função também pode ser chamada repetidamente para executar a mesma tarefa várias vezes, tornando o código mais eficiente.\n"
     ]
    }
   ],
   "source": [
    "print(output)"
   ]
  },
  {
   "cell_type": "markdown",
   "id": "7eb03ac7",
   "metadata": {},
   "source": [
    "* Count Tokens"
   ]
  },
  {
   "cell_type": "code",
   "execution_count": 36,
   "id": "bddcf343",
   "metadata": {},
   "outputs": [
    {
     "name": "stdout",
     "output_type": "stream",
     "text": [
      "13\n"
     ]
    }
   ],
   "source": [
    "print(llm.get_num_tokens('explique como funções python funcionam'))"
   ]
  },
  {
   "cell_type": "markdown",
   "id": "cd3d0917",
   "metadata": {},
   "source": [
    "* list of questions and answers"
   ]
  },
  {
   "cell_type": "code",
   "execution_count": 37,
   "id": "e0d9d3f0",
   "metadata": {},
   "outputs": [],
   "source": [
    "output = llm.generate(['... é a capital da França',\n",
    "                       'qual é a formula da área de um círculo?'])"
   ]
  },
  {
   "cell_type": "code",
   "execution_count": 38,
   "id": "5af7795d",
   "metadata": {},
   "outputs": [
    {
     "name": "stdout",
     "output_type": "stream",
     "text": [
      "[[Generation(text='?\\n\\nParis.', generation_info={'finish_reason': 'stop', 'logprobs': None})], [Generation(text='\\n\\nA área de um círculo é dada por A = π.r², onde r é o raio do círculo.', generation_info={'finish_reason': 'stop', 'logprobs': None})]]\n"
     ]
    }
   ],
   "source": [
    "print(output.generations)"
   ]
  },
  {
   "cell_type": "code",
   "execution_count": 39,
   "id": "04f3e77e",
   "metadata": {},
   "outputs": [
    {
     "data": {
      "text/plain": [
       "'?\\n\\nParis.'"
      ]
     },
     "execution_count": 39,
     "metadata": {},
     "output_type": "execute_result"
    }
   ],
   "source": [
    "output.generations[0][0].text"
   ]
  },
  {
   "cell_type": "code",
   "execution_count": 40,
   "id": "8a8c0f88",
   "metadata": {},
   "outputs": [],
   "source": [
    "output = llm.generate(['escreva um slogan original para um restaurante de sushi'] * 3)"
   ]
  },
  {
   "cell_type": "code",
   "execution_count": 41,
   "id": "b1f62778",
   "metadata": {},
   "outputs": [
    {
     "name": "stdout",
     "output_type": "stream",
     "text": [
      "\n",
      "\n",
      "\"Sushi com sabor de autenticidade: Venha sentir o verdadeiro sabor do Oriente!\"\n",
      "\n",
      "\"A frescura do sabor japonês, no coração da cidade!\"\n",
      "\n",
      "\"Sushi com sabores que vão te surpreender!\""
     ]
    }
   ],
   "source": [
    "for o in output.generations:\n",
    "    print(o[0].text, end='')"
   ]
  },
  {
   "cell_type": "markdown",
   "id": "138919ac",
   "metadata": {},
   "source": [
    "## ChatModels: GPT-3.5-Turbo e GPT-4"
   ]
  },
  {
   "cell_type": "code",
   "execution_count": 1,
   "id": "170974db",
   "metadata": {},
   "outputs": [],
   "source": [
    "from langchain.schema import(\n",
    "    AIMessage,\n",
    "    HumanMessage,\n",
    "    SystemMessage\n",
    ")\n",
    "\n",
    "from langchain.chat_models import ChatOpenAI"
   ]
  },
  {
   "cell_type": "markdown",
   "id": "cca0770d",
   "metadata": {},
   "source": [
    "- AIMESSAGE - Helps define the assistant's behavior.\n",
    "- HUMANMESSAGE - What do we ask the assistant\n",
    "- SYSTEMMESSAGE - Helps store previous responses."
   ]
  },
  {
   "cell_type": "code",
   "execution_count": 2,
   "id": "780f2d2c",
   "metadata": {},
   "outputs": [],
   "source": [
    "chat = ChatOpenAI(model_name='gpt-3.5-turbo', temperature=0.5, max_tokens=1024)\n",
    "messages = [\n",
    "    SystemMessage(content='Você é um especialista em machine learning que responde tudo em português.'),\n",
    "    HumanMessage(content='explique em um parágrafo o que é machine learning.')\n",
    "]\n",
    "output = chat(messages)"
   ]
  },
  {
   "cell_type": "code",
   "execution_count": 3,
   "id": "784c864d",
   "metadata": {},
   "outputs": [
    {
     "name": "stdout",
     "output_type": "stream",
     "text": [
      "Machine learning, ou aprendizado de máquina, é um campo da inteligência artificial que se baseia na capacidade dos computadores de aprender e melhorar a partir de dados, sem serem explicitamente programados. Por meio de algoritmos e modelos estatísticos, o machine learning permite que as máquinas analisem grandes quantidades de dados e identifiquem padrões, tomando decisões e realizando tarefas de forma autônoma. Essa abordagem é amplamente utilizada em diversas áreas, como reconhecimento de padrões, previsão de resultados, classificação de dados e recomendação de produtos, entre outros.\n"
     ]
    }
   ],
   "source": [
    "print(output.content)"
   ]
  }
 ],
 "metadata": {
  "kernelspec": {
   "display_name": "Python 3 (ipykernel)",
   "language": "python",
   "name": "python3"
  },
  "language_info": {
   "codemirror_mode": {
    "name": "ipython",
    "version": 3
   },
   "file_extension": ".py",
   "mimetype": "text/x-python",
   "name": "python",
   "nbconvert_exporter": "python",
   "pygments_lexer": "ipython3",
   "version": "3.11.2"
  }
 },
 "nbformat": 4,
 "nbformat_minor": 5
}
